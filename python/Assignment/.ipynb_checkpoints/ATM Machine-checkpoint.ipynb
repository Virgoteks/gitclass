{
 "cells": [
  {
   "cell_type": "markdown",
   "metadata": {},
   "source": [
    "# This ATM Machine is coded by Syed Ahsan Shah"
   ]
  },
  {
   "cell_type": "code",
   "execution_count": 1,
   "metadata": {},
   "outputs": [
    {
     "name": "stdout",
     "output_type": "stream",
     "text": [
      "Please enter your 4 digit pin code: 3121\n",
      "valid pin\n",
      "Please enter your card status: Current\n",
      "You are allowed for transaction.\n"
     ]
    }
   ],
   "source": [
    "pin = int(input(\"Please enter your 4 digit pin code: \"))\n",
    "if pin == 3121:\n",
    "    print (\"valid pin\")\n",
    "    cardstatus = input(\"Please enter your card status: \").lower()\n",
    "    if cardstatus == \"current\":\n",
    "        print (\"You are allowed for transaction.\")\n",
    "    else:\n",
    "        print (\"Please try again\")\n",
    "else:\n",
    "    print (\"Please check your pin code.\")"
   ]
  },
  {
   "cell_type": "markdown",
   "metadata": {},
   "source": [
    "# This Graded system is coded by Syed Ahsan Shah "
   ]
  },
  {
   "cell_type": "code",
   "execution_count": 9,
   "metadata": {},
   "outputs": [
    {
     "name": "stdout",
     "output_type": "stream",
     "text": [
      "Please enter your obtained percentage: 88\n",
      "A+\n"
     ]
    }
   ],
   "source": [
    "percent = int(input(\"Please enter your obtained percentage: \"))\n",
    "if percent >= 0 and percent < 33:\n",
    "    print(\"Fail\")\n",
    "elif percent >= 33 and percent < 40:\n",
    "    print(\"E\")\n",
    "elif percent >= 40 and percent < 50:\n",
    "    print(\"D\")\n",
    "elif percent >= 50 and percent < 60:\n",
    "    print(\"C\")\n",
    "elif percent >= 60 and percent < 70:\n",
    "    print(\"B\")\n",
    "elif percent >= 70 and percent < 80:\n",
    "    print(\"A\")\n",
    "elif percent >= 80 and percent <= 100:\n",
    "    print(\"A+\")\n",
    "else:\n",
    "    print(\"Not valid\")"
   ]
  },
  {
   "cell_type": "markdown",
   "metadata": {},
   "source": [
    "# This ID Card generator is coded by Syed Ahsan Shah"
   ]
  },
  {
   "cell_type": "code",
   "execution_count": 13,
   "metadata": {},
   "outputs": [
    {
     "name": "stdout",
     "output_type": "stream",
     "text": [
      "Enter your Name: a\n",
      "Enter your Father's Name: a\n",
      "Enter you Date of Birth: a\n",
      "Enter your CNIC No: 3\n",
      "Enter your Roll No: 3\n",
      "\n",
      "*******PIAIC********\n",
      "Saylani Welfare Trust\n",
      "Name: a\n",
      "Father's Name: a\n",
      "Date of Birth: a\n",
      "CNIC No: 3\n",
      "Roll No: 3\n",
      "\n"
     ]
    }
   ],
   "source": [
    "name = input(\"Enter your Name: \")\n",
    "father_name = input(\"Enter your Father's Name: \")\n",
    "dob = input(\"Enter you Date of Birth: \")\n",
    "cnic = int(input(\"Enter your CNIC No: \"))\n",
    "roll_no = int(input(\"Enter your Roll No: \"))\n",
    "\n",
    "abc = \"\"\"\n",
    "*******PIAIC********\n",
    "Saylani Welfare Trust\n",
    "Name: {}\n",
    "Father's Name: {}\n",
    "Date of Birth: {}\n",
    "CNIC No: {}\n",
    "Roll No: {}\n",
    "\"\"\"\n",
    "\n",
    "print(abc.format(name, father_name, dob, cnic, roll_no))\n"
   ]
  },
  {
   "cell_type": "code",
   "execution_count": null,
   "metadata": {},
   "outputs": [],
   "source": []
  }
 ],
 "metadata": {
  "kernelspec": {
   "display_name": "Python 3",
   "language": "python",
   "name": "python3"
  },
  "language_info": {
   "codemirror_mode": {
    "name": "ipython",
    "version": 3
   },
   "file_extension": ".py",
   "mimetype": "text/x-python",
   "name": "python",
   "nbconvert_exporter": "python",
   "pygments_lexer": "ipython3",
   "version": "3.7.3"
  }
 },
 "nbformat": 4,
 "nbformat_minor": 2
}
